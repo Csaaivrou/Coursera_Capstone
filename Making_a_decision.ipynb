{
    "nbformat_minor": 1, 
    "cells": [
        {
            "execution_count": 1, 
            "cell_type": "code", 
            "metadata": {}, 
            "outputs": [
                {
                    "output_type": "stream", 
                    "name": "stdout", 
                    "text": "Solving environment: done\n\n## Package Plan ##\n\n  environment location: /opt/conda/envs/Python36\n\n  added / updated specs: \n    - geopy\n\n\nThe following packages will be downloaded:\n\n    package                    |            build\n    ---------------------------|-----------------\n    certifi-2019.9.11          |           py36_0         147 KB  conda-forge\n    geopy-1.20.0               |             py_0          57 KB  conda-forge\n    ca-certificates-2019.9.11  |       hecc5488_0         144 KB  conda-forge\n    openssl-1.1.1c             |       h516909a_0         2.1 MB  conda-forge\n    geographiclib-1.50         |             py_0          34 KB  conda-forge\n    ------------------------------------------------------------\n                                           Total:         2.5 MB\n\nThe following NEW packages will be INSTALLED:\n\n    geographiclib:   1.50-py_0         conda-forge\n    geopy:           1.20.0-py_0       conda-forge\n\nThe following packages will be UPDATED:\n\n    ca-certificates: 2019.5.15-1                   --> 2019.9.11-hecc5488_0 conda-forge\n    certifi:         2019.6.16-py36_1              --> 2019.9.11-py36_0     conda-forge\n\nThe following packages will be DOWNGRADED:\n\n    openssl:         1.1.1d-h7b6447c_1             --> 1.1.1c-h516909a_0    conda-forge\n\n\nDownloading and Extracting Packages\ncertifi-2019.9.11    | 147 KB    | ##################################### | 100% \ngeopy-1.20.0         | 57 KB     | ##################################### | 100% \nca-certificates-2019 | 144 KB    | ##################################### | 100% \nopenssl-1.1.1c       | 2.1 MB    | ##################################### | 100% \ngeographiclib-1.50   | 34 KB     | ##################################### | 100% \nPreparing transaction: done\nVerifying transaction: done\nExecuting transaction: done\nSolving environment: done\n\n## Package Plan ##\n\n  environment location: /opt/conda/envs/Python36\n\n  added / updated specs: \n    - folium=0.5.0\n\n\nThe following packages will be downloaded:\n\n    package                    |            build\n    ---------------------------|-----------------\n    folium-0.5.0               |             py_0          45 KB  conda-forge\n    altair-3.2.0               |           py36_0         770 KB  conda-forge\n    vincent-0.4.4              |             py_1          28 KB  conda-forge\n    branca-0.3.1               |             py_0          25 KB  conda-forge\n    ------------------------------------------------------------\n                                           Total:         868 KB\n\nThe following NEW packages will be INSTALLED:\n\n    altair:  3.2.0-py36_0 conda-forge\n    branca:  0.3.1-py_0   conda-forge\n    folium:  0.5.0-py_0   conda-forge\n    vincent: 0.4.4-py_1   conda-forge\n\n\nDownloading and Extracting Packages\nfolium-0.5.0         | 45 KB     | ##################################### | 100% \naltair-3.2.0         | 770 KB    | ##################################### | 100% \nvincent-0.4.4        | 28 KB     | ##################################### | 100% \nbranca-0.3.1         | 25 KB     | ##################################### | 100% \nPreparing transaction: done\nVerifying transaction: done\nExecuting transaction: done\nFolium installed\nLibraries imported.\n"
                }
            ], 
            "source": "import requests\nimport pandas as pd\nimport numpy as np\nimport random\n\n!conda install -c conda-forge geopy --yes \nfrom geopy.geocoders import Nominatim\n\nfrom IPython.display import Image \nfrom IPython.core.display import HTML \n    \nfrom pandas.io.json import json_normalize\n\n!conda install -c conda-forge folium=0.5.0 --yes\nimport folium\n\nprint('Folium installed')\nprint('Libraries imported.')"
        }, 
        {
            "execution_count": 6, 
            "cell_type": "code", 
            "metadata": {
                "scrolled": true
            }, 
            "outputs": [
                {
                    "output_type": "stream", 
                    "name": "stdout", 
                    "text": "Your credentails:\nCLIENT_ID: 4XJERW0UXHYGTBU0UDD5VUXEVQCLVXXV4ZUDI51YICLHWTOC\nCLIENT_SECRET:YAJY3B3BOGU3TG2H1M1DQA2HSD40M2DVKKMNCCEDBWYHB3CN\n"
                }
            ], 
            "source": "CLIENT_ID = '4XJERW0UXHYGTBU0UDD5VUXEVQCLVXXV4ZUDI51YICLHWTOC'\nCLIENT_SECRET = 'YAJY3B3BOGU3TG2H1M1DQA2HSD40M2DVKKMNCCEDBWYHB3CN'\nVERSION = '20180604'\nLIMIT = 30\nprint('Your credentails:')\nprint('CLIENT_ID: ' + CLIENT_ID)\nprint('CLIENT_SECRET:' + CLIENT_SECRET)"
        }, 
        {
            "execution_count": 2, 
            "cell_type": "code", 
            "metadata": {}, 
            "outputs": [
                {
                    "output_type": "stream", 
                    "name": "stdout", 
                    "text": "Harvard Medical School: 42.33564455 -71.1042236537206\n"
                }
            ], 
            "source": "HMS_address = '25 Shattuck Street, Boston, MA'\n\n\ngeolocator = Nominatim(user_agent=\"foursquare_agent\")\nlocation = geolocator.geocode(HMS_address)\nHMS_latitude = location.latitude\nHMS_longitude = location.longitude\nprint(\"Harvard Medical School:\", HMS_latitude, HMS_longitude)"
        }, 
        {
            "execution_count": 4, 
            "cell_type": "code", 
            "metadata": {}, 
            "outputs": [
                {
                    "output_type": "stream", 
                    "name": "stdout", 
                    "text": "Athletic Track .... OK!\n"
                }
            ], 
            "source": "search_query = 'Athletic Track'\nradius = 500\nprint(search_query + ' .... OK!')"
        }, 
        {
            "execution_count": 7, 
            "cell_type": "code", 
            "metadata": {}, 
            "outputs": [
                {
                    "execution_count": 7, 
                    "metadata": {}, 
                    "data": {
                        "text/plain": "'https://api.foursquare.com/v2/venues/search?client_id=4XJERW0UXHYGTBU0UDD5VUXEVQCLVXXV4ZUDI51YICLHWTOC&client_secret=YAJY3B3BOGU3TG2H1M1DQA2HSD40M2DVKKMNCCEDBWYHB3CN&ll=42.33564455,-71.1042236537206&v=20180604&query=Athletic Track&radius=500&limit=30'"
                    }, 
                    "output_type": "execute_result"
                }
            ], 
            "source": "url = 'https://api.foursquare.com/v2/venues/search?client_id={}&client_secret={}&ll={},{}&v={}&query={}&radius={}&limit={}'.format(CLIENT_ID, CLIENT_SECRET, HMS_latitude, HMS_longitude, VERSION, search_query, radius, LIMIT)\nurl"
        }, 
        {
            "execution_count": 8, 
            "cell_type": "code", 
            "metadata": {}, 
            "outputs": [
                {
                    "execution_count": 8, 
                    "metadata": {}, 
                    "data": {
                        "text/plain": "{'meta': {'code': 200, 'requestId': '5d8faa06a6ec9800392f374a'},\n 'response': {'venues': [{'id': '4ed67a5d9adf5095962f1974',\n    'name': 'Vanderbilt Hall Athletic Facility',\n    'location': {'address': '107 Avenue Louis Pasteur',\n     'crossStreet': 'at Longwood Ave',\n     'lat': 42.337717420947406,\n     'lng': -71.10377389250911,\n     'labeledLatLngs': [{'label': 'display',\n       'lat': 42.337717420947406,\n       'lng': -71.10377389250911}],\n     'distance': 233,\n     'postalCode': '02115',\n     'cc': 'US',\n     'city': 'Boston',\n     'state': 'MA',\n     'country': 'United States',\n     'formattedAddress': ['107 Avenue Louis Pasteur (at Longwood Ave)',\n      'Boston, MA 02115',\n      'United States']},\n    'categories': [{'id': '4bf58dd8d48988d176941735',\n      'name': 'Gym',\n      'pluralName': 'Gyms',\n      'shortName': 'Gym',\n      'icon': {'prefix': 'https://ss3.4sqi.net/img/categories_v2/building/gym_',\n       'suffix': '.png'},\n      'primary': True}],\n    'referralId': 'v-1569696262',\n    'hasPerk': False}]}}"
                    }, 
                    "output_type": "execute_result"
                }
            ], 
            "source": "results = requests.get(url).json()\nresults"
        }, 
        {
            "execution_count": 12, 
            "cell_type": "code", 
            "metadata": {}, 
            "outputs": [
                {
                    "execution_count": 12, 
                    "metadata": {}, 
                    "data": {
                        "text/plain": "<bound method NDFrame.head of                                           categories  hasPerk  \\\n0  [{'id': '4bf58dd8d48988d176941735', 'name': 'G...    False   \n\n                         id          location.address location.cc  \\\n0  4ed67a5d9adf5095962f1974  107 Avenue Louis Pasteur          US   \n\n  location.city location.country location.crossStreet  location.distance  \\\n0        Boston    United States      at Longwood Ave                233   \n\n                           location.formattedAddress  \\\n0  [107 Avenue Louis Pasteur (at Longwood Ave), B...   \n\n                             location.labeledLatLngs  location.lat  \\\n0  [{'label': 'display', 'lat': 42.33771742094740...     42.337717   \n\n   location.lng location.postalCode location.state  \\\n0    -71.103774               02115             MA   \n\n                                name    referralId  \n0  Vanderbilt Hall Athletic Facility  v-1569696262  >"
                    }, 
                    "output_type": "execute_result"
                }
            ], 
            "source": "venues = results['response']['venues']\n\nHMS_Data = json_normalize(venues)\nHMS_Data.head"
        }, 
        {
            "execution_count": 13, 
            "cell_type": "code", 
            "metadata": {}, 
            "outputs": [
                {
                    "execution_count": 13, 
                    "metadata": {}, 
                    "data": {
                        "text/html": "<div>\n<style scoped>\n    .dataframe tbody tr th:only-of-type {\n        vertical-align: middle;\n    }\n\n    .dataframe tbody tr th {\n        vertical-align: top;\n    }\n\n    .dataframe thead th {\n        text-align: right;\n    }\n</style>\n<table border=\"1\" class=\"dataframe\">\n  <thead>\n    <tr style=\"text-align: right;\">\n      <th></th>\n      <th>name</th>\n      <th>categories</th>\n      <th>address</th>\n      <th>cc</th>\n      <th>city</th>\n      <th>country</th>\n      <th>crossStreet</th>\n      <th>distance</th>\n      <th>formattedAddress</th>\n      <th>labeledLatLngs</th>\n      <th>lat</th>\n      <th>lng</th>\n      <th>postalCode</th>\n      <th>state</th>\n      <th>id</th>\n    </tr>\n  </thead>\n  <tbody>\n    <tr>\n      <th>0</th>\n      <td>Vanderbilt Hall Athletic Facility</td>\n      <td>Gym</td>\n      <td>107 Avenue Louis Pasteur</td>\n      <td>US</td>\n      <td>Boston</td>\n      <td>United States</td>\n      <td>at Longwood Ave</td>\n      <td>233</td>\n      <td>[107 Avenue Louis Pasteur (at Longwood Ave), B...</td>\n      <td>[{'label': 'display', 'lat': 42.33771742094740...</td>\n      <td>42.337717</td>\n      <td>-71.103774</td>\n      <td>02115</td>\n      <td>MA</td>\n      <td>4ed67a5d9adf5095962f1974</td>\n    </tr>\n  </tbody>\n</table>\n</div>", 
                        "text/plain": "                                name categories                   address  cc  \\\n0  Vanderbilt Hall Athletic Facility        Gym  107 Avenue Louis Pasteur  US   \n\n     city        country      crossStreet  distance  \\\n0  Boston  United States  at Longwood Ave       233   \n\n                                    formattedAddress  \\\n0  [107 Avenue Louis Pasteur (at Longwood Ave), B...   \n\n                                      labeledLatLngs        lat        lng  \\\n0  [{'label': 'display', 'lat': 42.33771742094740...  42.337717 -71.103774   \n\n  postalCode state                        id  \n0      02115    MA  4ed67a5d9adf5095962f1974  "
                    }, 
                    "output_type": "execute_result"
                }
            ], 
            "source": "filtered_columns = ['name', 'categories'] + [col for col in HMS_Data.columns if col.startswith('location.')] + ['id']\nHMS_Data_filtered = HMS_Data.loc[:, filtered_columns]\n\ndef get_category_type(row):\n    try:\n        categories_list = row['categories']\n    except:\n        categories_list = row['venue.categories']\n        \n    if len(categories_list) == 0:\n        return None\n    else:\n        return categories_list[0]['name']\n\nHMS_Data_filtered['categories'] = HMS_Data_filtered.apply(get_category_type, axis=1)\n\nHMS_Data_filtered.columns = [column.split('.')[-1] for column in HMS_Data_filtered.columns]\n\nHMS_Data_filtered"
        }, 
        {
            "execution_count": 14, 
            "cell_type": "code", 
            "metadata": {}, 
            "outputs": [
                {
                    "execution_count": 14, 
                    "metadata": {}, 
                    "data": {
                        "text/plain": "0    Vanderbilt Hall Athletic Facility\nName: name, dtype: object"
                    }, 
                    "output_type": "execute_result"
                }
            ], 
            "source": "HMS_Data_filtered.name"
        }, 
        {
            "execution_count": 21, 
            "cell_type": "code", 
            "metadata": {}, 
            "outputs": [
                {
                    "execution_count": 21, 
                    "metadata": {}, 
                    "data": {
                        "text/plain": "0    233\nName: distance, dtype: int64"
                    }, 
                    "output_type": "execute_result"
                }
            ], 
            "source": "HMS_Data_filtered.distance"
        }, 
        {
            "execution_count": 15, 
            "cell_type": "code", 
            "metadata": {}, 
            "outputs": [
                {
                    "execution_count": 15, 
                    "metadata": {}, 
                    "data": {
                        "text/html": "<div style=\"width:100%;\"><div style=\"position:relative;width:100%;height:0;padding-bottom:60%;\"><iframe src=\"data:text/html;charset=utf-8;base64,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\" style=\"position:absolute;width:100%;height:100%;left:0;top:0;border:none !important;\" allowfullscreen webkitallowfullscreen mozallowfullscreen></iframe></div></div>", 
                        "text/plain": "<folium.folium.Map at 0x7fe502a05320>"
                    }, 
                    "output_type": "execute_result"
                }
            ], 
            "source": "venues_map = folium.Map(location=[HMS_latitude, HMS_longitude], zoom_start=13)\n\nfolium.features.CircleMarker(\n    [HMS_latitude, HMS_longitude],\n    radius=10,\n    color='red',\n    popup='Havard Medical School',\n    fill = True,\n    fill_color = 'red',\n    fill_opacity = 0.6\n).add_to(venues_map)\n\nfor lat, lng, label in zip(HMS_Data_filtered.lat, HMS_Data_filtered.lng, HMS_Data_filtered.categories):\n    folium.features.CircleMarker(\n        [lat, lng],\n        radius=5,\n        color='blue',\n        popup=label,\n        fill = True,\n        fill_color='blue',\n        fill_opacity=0.6\n    ).add_to(venues_map)\n\nvenues_map"
        }, 
        {
            "execution_count": 16, 
            "cell_type": "code", 
            "metadata": {}, 
            "outputs": [
                {
                    "execution_count": 16, 
                    "metadata": {}, 
                    "data": {
                        "text/plain": "'https://api.foursquare.com/v2/venues/4ed67a5d9adf5095962f1974?client_id=4XJERW0UXHYGTBU0UDD5VUXEVQCLVXXV4ZUDI51YICLHWTOC&client_secret=YAJY3B3BOGU3TG2H1M1DQA2HSD40M2DVKKMNCCEDBWYHB3CN&v=20180604'"
                    }, 
                    "output_type": "execute_result"
                }
            ], 
            "source": "venue_id = '4ed67a5d9adf5095962f1974' \nurl = 'https://api.foursquare.com/v2/venues/{}?client_id={}&client_secret={}&v={}'.format(venue_id, CLIENT_ID, CLIENT_SECRET, VERSION)\nurl"
        }, 
        {
            "execution_count": 17, 
            "cell_type": "code", 
            "metadata": {}, 
            "outputs": [
                {
                    "output_type": "stream", 
                    "name": "stdout", 
                    "text": "dict_keys(['id', 'name', 'contact', 'location', 'canonicalUrl', 'categories', 'verified', 'stats', 'url', 'likes', 'dislike', 'ok', 'allowMenuUrlEdit', 'beenHere', 'specials', 'photos', 'reasons', 'page', 'hereNow', 'createdAt', 'tips', 'shortUrl', 'timeZone', 'listed', 'popular', 'pageUpdates', 'inbox', 'parent', 'hierarchy', 'attributes', 'bestPhoto', 'colors'])\n"
                }, 
                {
                    "execution_count": 17, 
                    "metadata": {}, 
                    "data": {
                        "text/plain": "{'id': '4ed67a5d9adf5095962f1974',\n 'name': 'Vanderbilt Hall Athletic Facility',\n 'contact': {'phone': '6174321630',\n  'formattedPhone': '(617) 432-1630',\n  'twitter': 'harvardmed'},\n 'location': {'address': '107 Avenue Louis Pasteur',\n  'crossStreet': 'at Longwood Ave',\n  'lat': 42.337717420947406,\n  'lng': -71.10377389250911,\n  'labeledLatLngs': [{'label': 'display',\n    'lat': 42.337717420947406,\n    'lng': -71.10377389250911}],\n  'postalCode': '02115',\n  'cc': 'US',\n  'city': 'Boston',\n  'state': 'MA',\n  'country': 'United States',\n  'formattedAddress': ['107 Avenue Louis Pasteur (at Longwood Ave)',\n   'Boston, MA 02115',\n   'United States']},\n 'canonicalUrl': 'https://foursquare.com/v/vanderbilt-hall-athletic-facility/4ed67a5d9adf5095962f1974',\n 'categories': [{'id': '4bf58dd8d48988d176941735',\n   'name': 'Gym',\n   'pluralName': 'Gyms',\n   'shortName': 'Gym',\n   'icon': {'prefix': 'https://ss3.4sqi.net/img/categories_v2/building/gym_',\n    'suffix': '.png'},\n   'primary': True}],\n 'verified': True,\n 'stats': {'tipCount': 2},\n 'url': 'http://hms.harvard.edu',\n 'likes': {'count': 2,\n  'groups': [{'type': 'others',\n    'count': 2,\n    'items': [{'id': '190347847',\n      'firstName': 'Shaikha',\n      'lastName': 'K',\n      'gender': 'female',\n      'photo': {'prefix': 'https://fastly.4sqi.net/img/user/',\n       'suffix': '/190347847-EXHRXJAA2PBNBKGZ.jpg'}},\n     {'id': '3713842',\n      'firstName': 'Mark',\n      'lastName': 'Tuttle',\n      'gender': 'male',\n      'photo': {'prefix': 'https://fastly.4sqi.net/img/user/',\n       'suffix': '/CWJQBJX5MDDJZ00B.jpg'}}]}],\n  'summary': '2 Likes'},\n 'dislike': False,\n 'ok': False,\n 'allowMenuUrlEdit': True,\n 'beenHere': {'count': 0,\n  'unconfirmedCount': 0,\n  'marked': False,\n  'lastCheckinExpiredAt': 0},\n 'specials': {'count': 0, 'items': []},\n 'photos': {'count': 1,\n  'groups': [{'type': 'checkin',\n    'name': \"Friends' check-in photos\",\n    'count': 0,\n    'items': []},\n   {'type': 'venue',\n    'name': 'Venue photos',\n    'count': 1,\n    'items': [{'id': '59975272f8cbd46f1c226a06',\n      'createdAt': 1503089266,\n      'prefix': 'https://fastly.4sqi.net/img/general/',\n      'suffix': '/212169387_C2-Wh9iB-a9yFzkkMFUuT3RsxV7Rna5lQWhqCNs0Bds.jpg',\n      'width': 3888,\n      'height': 2592,\n      'user': {'id': '212169387',\n       'firstName': 'pivot_photos',\n       'gender': 'none',\n       'photo': {'prefix': 'https://fastly.4sqi.net/img/user/',\n        'suffix': '/blank_boy.png',\n        'default': True},\n       'type': 'page'},\n      'visibility': 'public'}]}],\n  'summary': '1 photo'},\n 'reasons': {'count': 0, 'items': []},\n 'page': {'pageInfo': {'description': 'Mission: to create & nurture a diverse community of the best people committed to leadership in alleviating human suffering caused by disease.',\n   'banner': 'https://is1.4sqi.net/userpix/CATBHNU5YR0HKFXV.jpg',\n   'links': {'count': 1, 'items': [{'url': 'http://hms.harvard.edu'}]}},\n  'user': {'id': '27309271',\n   'firstName': 'Harvard Medical School',\n   'gender': 'none',\n   'photo': {'prefix': 'https://fastly.4sqi.net/img/user/',\n    'suffix': '/BLYIN1NU5D5GL2DF.jpg'},\n   'type': 'chain',\n   'tips': {'count': 67},\n   'lists': {'groups': [{'type': 'created', 'count': 4, 'items': []}]},\n   'homeCity': 'Boston, MA',\n   'bio': '',\n   'contact': {'twitter': 'harvardmed'}}},\n 'hereNow': {'count': 0, 'summary': 'Nobody here', 'groups': []},\n 'createdAt': 1322678877,\n 'tips': {'count': 2,\n  'groups': [{'type': 'others',\n    'name': 'All tips',\n    'count': 2,\n    'items': [{'id': '4fa7dccfe4b039aeed1a53f5',\n      'createdAt': 1336401103,\n      'text': 'The athletic facility is located within Vanderbilt Hall. It includes a regulation outdoor tennis court, indoor basketball court; three singles squash courts, and a climbing wall.',\n      'type': 'user',\n      'canonicalUrl': 'https://foursquare.com/item/4fa7dccfe4b039aeed1a53f5',\n      'lang': 'en',\n      'likes': {'count': 1,\n       'groups': [{'type': 'others', 'count': 1, 'items': []}],\n       'summary': '1 like'},\n      'logView': True,\n      'agreeCount': 2,\n      'disagreeCount': 0,\n      'todo': {'count': 0},\n      'user': {'id': '27309271',\n       'firstName': 'Harvard Medical School',\n       'gender': 'none',\n       'photo': {'prefix': 'https://fastly.4sqi.net/img/user/',\n        'suffix': '/BLYIN1NU5D5GL2DF.jpg'},\n       'type': 'chain'}}]}]},\n 'shortUrl': 'http://4sq.com/vrxHE3',\n 'timeZone': 'America/New_York',\n 'listed': {'count': 0,\n  'groups': [{'type': 'others',\n    'name': 'Lists from other people',\n    'count': 0,\n    'items': []}]},\n 'popular': {'isOpen': False,\n  'isLocalHoliday': False,\n  'timeframes': [{'days': 'Today',\n    'includesToday': True,\n    'open': [{'renderedTime': '11:00 AM\u20132:00 PM'},\n     {'renderedTime': '4:00 PM\u20138:00 PM'}],\n    'segments': []},\n   {'days': 'Sun',\n    'open': [{'renderedTime': '1:00 PM\u20132:00 PM'},\n     {'renderedTime': '6:00 PM\u20138:00 PM'}],\n    'segments': []},\n   {'days': 'Mon',\n    'open': [{'renderedTime': '11:00 AM\u2013Noon'},\n     {'renderedTime': '2:00 PM\u201310:00 PM'}],\n    'segments': []},\n   {'days': 'Tue',\n    'open': [{'renderedTime': '2:00 PM\u201310:00 PM'}],\n    'segments': []},\n   {'days': 'Wed',\n    'open': [{'renderedTime': '8:00 AM\u20131:00 PM'},\n     {'renderedTime': '3:00 PM\u201311:00 PM'}],\n    'segments': []},\n   {'days': 'Thu',\n    'open': [{'renderedTime': '11:00 AM\u201310:00 PM'}],\n    'segments': []},\n   {'days': 'Fri',\n    'open': [{'renderedTime': '1:00 PM\u20132:00 PM'},\n     {'renderedTime': '4:00 PM\u20139:00 PM'}],\n    'segments': []}]},\n 'pageUpdates': {'count': 96, 'items': []},\n 'inbox': {'count': 0, 'items': []},\n 'parent': {'id': '4b4f9d89f964a520ac0d27e3',\n  'name': 'Vanderbilt Hall',\n  'location': {'address': '107 Avenue Louis Pasteur',\n   'lat': 42.337296849640275,\n   'lng': -71.10342444751069,\n   'labeledLatLngs': [{'label': 'display',\n     'lat': 42.337296849640275,\n     'lng': -71.10342444751069}],\n   'postalCode': '02115',\n   'cc': 'US',\n   'city': 'Boston',\n   'state': 'MA',\n   'country': 'United States',\n   'formattedAddress': ['107 Avenue Louis Pasteur',\n    'Boston, MA 02115',\n    'United States']},\n  'categories': [{'id': '4bf58dd8d48988d1a3941735',\n    'name': 'College Residence Hall',\n    'pluralName': 'College Residence Halls',\n    'shortName': 'Residence Hall',\n    'icon': {'prefix': 'https://ss3.4sqi.net/img/categories_v2/education/residencehall_',\n     'suffix': '.png'},\n    'primary': True}]},\n 'hierarchy': [{'name': 'Vanderbilt Hall',\n   'lang': 'en',\n   'id': '4b4f9d89f964a520ac0d27e3',\n   'canonicalUrl': 'https://foursquare.com/v/vanderbilt-hall/4b4f9d89f964a520ac0d27e3'},\n  {'name': 'Harvard Medical School',\n   'lang': 'en',\n   'id': '4c6e00a3f323bfb71d312199',\n   'canonicalUrl': 'https://foursquare.com/v/harvard-medical-school/4c6e00a3f323bfb71d312199'}],\n 'attributes': {'groups': [{'type': 'payments',\n    'name': 'Credit Cards',\n    'summary': 'Credit Cards',\n    'count': 7,\n    'items': [{'displayName': 'Credit Cards', 'displayValue': 'Yes'}]}]},\n 'bestPhoto': {'id': '59975272f8cbd46f1c226a06',\n  'createdAt': 1503089266,\n  'prefix': 'https://fastly.4sqi.net/img/general/',\n  'suffix': '/212169387_C2-Wh9iB-a9yFzkkMFUuT3RsxV7Rna5lQWhqCNs0Bds.jpg',\n  'width': 3888,\n  'height': 2592,\n  'visibility': 'public'},\n 'colors': {'highlightColor': {'photoId': '59975272f8cbd46f1c226a06',\n   'value': -14145480},\n  'highlightTextColor': {'photoId': '59975272f8cbd46f1c226a06', 'value': -1},\n  'algoVersion': 3}}"
                    }, 
                    "output_type": "execute_result"
                }
            ], 
            "source": "result = requests.get(url).json()\nprint(result['response']['venue'].keys())\nresult['response']['venue']"
        }, 
        {
            "execution_count": 20, 
            "cell_type": "code", 
            "metadata": {}, 
            "outputs": [
                {
                    "output_type": "stream", 
                    "name": "stdout", 
                    "text": "This venue has not been rated yet.\n"
                }
            ], 
            "source": "try:\n    print(result['response']['venue']['rating'])\nexcept:\n    print('This venue has not been rated yet.')"
        }, 
        {
            "execution_count": 25, 
            "cell_type": "code", 
            "metadata": {}, 
            "outputs": [
                {
                    "output_type": "stream", 
                    "name": "stdout", 
                    "text": "Columbia Medical School: 40.8416764 -73.9415796\n"
                }
            ], 
            "source": "HMS_address = '630 W 168th St, New York, NY 10032'\n\n\ngeolocator = Nominatim(user_agent=\"foursquare_agent\")\nlocation = geolocator.geocode(HMS_address)\nCMS_latitude = location.latitude\nCMS_longitude = location.longitude\nprint(\"Columbia Medical School:\", CMS_latitude, CMS_longitude)"
        }, 
        {
            "execution_count": 26, 
            "cell_type": "code", 
            "metadata": {}, 
            "outputs": [
                {
                    "output_type": "stream", 
                    "name": "stdout", 
                    "text": "Athletic Track .... OK!\n"
                }
            ], 
            "source": "search_query = 'Athletic Track'\nradius = 500\nprint(search_query + ' .... OK!')"
        }, 
        {
            "execution_count": 27, 
            "cell_type": "code", 
            "metadata": {}, 
            "outputs": [
                {
                    "execution_count": 27, 
                    "metadata": {}, 
                    "data": {
                        "text/plain": "'https://api.foursquare.com/v2/venues/search?client_id=4XJERW0UXHYGTBU0UDD5VUXEVQCLVXXV4ZUDI51YICLHWTOC&client_secret=YAJY3B3BOGU3TG2H1M1DQA2HSD40M2DVKKMNCCEDBWYHB3CN&ll=40.8416764,-73.9415796&v=20180604&query=Athletic Track&radius=500&limit=30'"
                    }, 
                    "output_type": "execute_result"
                }
            ], 
            "source": "url = 'https://api.foursquare.com/v2/venues/search?client_id={}&client_secret={}&ll={},{}&v={}&query={}&radius={}&limit={}'.format(CLIENT_ID, CLIENT_SECRET, CMS_latitude, CMS_longitude, VERSION, search_query, radius, LIMIT)\nurl"
        }, 
        {
            "execution_count": 28, 
            "cell_type": "code", 
            "metadata": {}, 
            "outputs": [
                {
                    "execution_count": 28, 
                    "metadata": {}, 
                    "data": {
                        "text/plain": "{'meta': {'code': 200, 'requestId': '5d8fb164475abd0039e58ae3'},\n 'response': {'venues': [{'id': '4b5b0144f964a5205fde28e3',\n    'name': 'New Balance Track & Field Center at The Armory',\n    'location': {'address': '216 Fort Washington Ave',\n     'crossStreet': 'near 168th & Broadway',\n     'lat': 40.84237921810222,\n     'lng': -73.94187469369459,\n     'labeledLatLngs': [{'label': 'display',\n       'lat': 40.84237921810222,\n       'lng': -73.94187469369459}],\n     'distance': 82,\n     'postalCode': '10032',\n     'cc': 'US',\n     'city': 'New York',\n     'state': 'NY',\n     'country': 'United States',\n     'formattedAddress': ['216 Fort Washington Ave (near 168th & Broadway)',\n      'New York, NY 10032',\n      'United States']},\n    'categories': [{'id': '4bf58dd8d48988d106941735',\n      'name': 'Track',\n      'pluralName': 'Tracks',\n      'shortName': 'Track',\n      'icon': {'prefix': 'https://ss3.4sqi.net/img/categories_v2/arts_entertainment/stadium_track_',\n       'suffix': '.png'},\n      'primary': True}],\n    'venuePage': {'id': '433098152'},\n    'referralId': 'v-1569698148',\n    'hasPerk': False},\n   {'id': '50e4986ae4b0167bf4bcb4a1',\n    'name': 'Bard Athletic Center',\n    'location': {'address': '60 Haven Ave',\n     'crossStreet': '169th and Haven Ave',\n     'lat': 40.84339125113941,\n     'lng': -73.94370716329779,\n     'labeledLatLngs': [{'label': 'display',\n       'lat': 40.84339125113941,\n       'lng': -73.94370716329779}],\n     'distance': 261,\n     'postalCode': '10032',\n     'cc': 'US',\n     'city': 'New York',\n     'state': 'NY',\n     'country': 'United States',\n     'formattedAddress': ['60 Haven Ave (169th and Haven Ave)',\n      'New York, NY 10032',\n      'United States']},\n    'categories': [{'id': '4bf58dd8d48988d1b2941735',\n      'name': 'College Gym',\n      'pluralName': 'College Gyms',\n      'shortName': 'Gym',\n      'icon': {'prefix': 'https://ss3.4sqi.net/img/categories_v2/building/gym_',\n       'suffix': '.png'},\n      'primary': True}],\n    'referralId': 'v-1569698148',\n    'hasPerk': False},\n   {'id': '4bbca8c34e069c7443b19de3',\n    'name': 'Finish Line Cafe  (@ New Balance Track and Field Center )',\n    'location': {'address': '216 Fort Washington Ave',\n     'crossStreet': 'at West 168th St',\n     'lat': 40.842305,\n     'lng': -73.94186335,\n     'labeledLatLngs': [{'label': 'display',\n       'lat': 40.842305,\n       'lng': -73.94186335}],\n     'distance': 73,\n     'postalCode': '10032',\n     'cc': 'US',\n     'city': 'New York',\n     'state': 'NY',\n     'country': 'United States',\n     'formattedAddress': ['216 Fort Washington Ave (at West 168th St)',\n      'New York, NY 10032',\n      'United States']},\n    'categories': [{'id': '4bf58dd8d48988d16d941735',\n      'name': 'Caf\u00e9',\n      'pluralName': 'Caf\u00e9s',\n      'shortName': 'Caf\u00e9',\n      'icon': {'prefix': 'https://ss3.4sqi.net/img/categories_v2/food/cafe_',\n       'suffix': '.png'},\n      'primary': True}],\n    'referralId': 'v-1569698148',\n    'hasPerk': False},\n   {'id': '50d4e46ee4b0f4383822524b',\n    'name': 'Armory Track & Field',\n    'location': {'lat': 40.84212671215585,\n     'lng': -73.94153601157315,\n     'labeledLatLngs': [{'label': 'display',\n       'lat': 40.84212671215585,\n       'lng': -73.94153601157315}],\n     'distance': 50,\n     'postalCode': '10032',\n     'cc': 'US',\n     'city': 'New York',\n     'state': 'NY',\n     'country': 'United States',\n     'formattedAddress': ['New York, NY 10032', 'United States']},\n    'categories': [{'id': '4f4528bc4b90abdf24c9de85',\n      'name': 'Athletics & Sports',\n      'pluralName': 'Athletics & Sports',\n      'shortName': 'Athletics & Sports',\n      'icon': {'prefix': 'https://ss3.4sqi.net/img/categories_v2/shops/sports_outdoors_',\n       'suffix': '.png'},\n      'primary': True}],\n    'referralId': 'v-1569698148',\n    'hasPerk': False},\n   {'id': '4e15aaa5b61c42e7c54cf6c3',\n    'name': 'Police Athletic League (P.A.L.)',\n    'location': {'address': '216 Fort Washington Ave',\n     'crossStreet': '169th St.',\n     'lat': 40.84253728743216,\n     'lng': -73.94147860776503,\n     'labeledLatLngs': [{'label': 'display',\n       'lat': 40.84253728743216,\n       'lng': -73.94147860776503}],\n     'distance': 96,\n     'postalCode': '10032',\n     'cc': 'US',\n     'city': 'New York',\n     'state': 'NY',\n     'country': 'United States',\n     'formattedAddress': ['216 Fort Washington Ave (169th St.)',\n      'New York, NY 10032',\n      'United States']},\n    'categories': [{'id': '4f4528bc4b90abdf24c9de85',\n      'name': 'Athletics & Sports',\n      'pluralName': 'Athletics & Sports',\n      'shortName': 'Athletics & Sports',\n      'icon': {'prefix': 'https://ss3.4sqi.net/img/categories_v2/shops/sports_outdoors_',\n       'suffix': '.png'},\n      'primary': True}],\n    'referralId': 'v-1569698148',\n    'hasPerk': False}]}}"
                    }, 
                    "output_type": "execute_result"
                }
            ], 
            "source": "results = requests.get(url).json()\nresults"
        }, 
        {
            "execution_count": 31, 
            "cell_type": "code", 
            "metadata": {
                "scrolled": true
            }, 
            "outputs": [
                {
                    "execution_count": 31, 
                    "metadata": {}, 
                    "data": {
                        "text/plain": "<bound method NDFrame.head of                                           categories  hasPerk  \\\n0  [{'id': '4bf58dd8d48988d106941735', 'name': 'T...    False   \n1  [{'id': '4bf58dd8d48988d1b2941735', 'name': 'C...    False   \n2  [{'id': '4bf58dd8d48988d16d941735', 'name': 'C...    False   \n3  [{'id': '4f4528bc4b90abdf24c9de85', 'name': 'A...    False   \n4  [{'id': '4f4528bc4b90abdf24c9de85', 'name': 'A...    False   \n\n                         id         location.address location.cc  \\\n0  4b5b0144f964a5205fde28e3  216 Fort Washington Ave          US   \n1  50e4986ae4b0167bf4bcb4a1             60 Haven Ave          US   \n2  4bbca8c34e069c7443b19de3  216 Fort Washington Ave          US   \n3  50d4e46ee4b0f4383822524b                      NaN          US   \n4  4e15aaa5b61c42e7c54cf6c3  216 Fort Washington Ave          US   \n\n  location.city location.country   location.crossStreet  location.distance  \\\n0      New York    United States  near 168th & Broadway                 82   \n1      New York    United States    169th and Haven Ave                261   \n2      New York    United States       at West 168th St                 73   \n3      New York    United States                    NaN                 50   \n4      New York    United States              169th St.                 96   \n\n                           location.formattedAddress  \\\n0  [216 Fort Washington Ave (near 168th & Broadwa...   \n1  [60 Haven Ave (169th and Haven Ave), New York,...   \n2  [216 Fort Washington Ave (at West 168th St), N...   \n3                [New York, NY 10032, United States]   \n4  [216 Fort Washington Ave (169th St.), New York...   \n\n                             location.labeledLatLngs  location.lat  \\\n0  [{'label': 'display', 'lat': 40.84237921810222...     40.842379   \n1  [{'label': 'display', 'lat': 40.84339125113941...     40.843391   \n2  [{'label': 'display', 'lat': 40.842305, 'lng':...     40.842305   \n3  [{'label': 'display', 'lat': 40.84212671215585...     40.842127   \n4  [{'label': 'display', 'lat': 40.84253728743216...     40.842537   \n\n   location.lng location.postalCode location.state  \\\n0    -73.941875               10032             NY   \n1    -73.943707               10032             NY   \n2    -73.941863               10032             NY   \n3    -73.941536               10032             NY   \n4    -73.941479               10032             NY   \n\n                                                name    referralId  \\\n0     New Balance Track & Field Center at The Armory  v-1569698148   \n1                               Bard Athletic Center  v-1569698148   \n2  Finish Line Cafe  (@ New Balance Track and Fie...  v-1569698148   \n3                               Armory Track & Field  v-1569698148   \n4                    Police Athletic League (P.A.L.)  v-1569698148   \n\n  venuePage.id  \n0    433098152  \n1          NaN  \n2          NaN  \n3          NaN  \n4          NaN  >"
                    }, 
                    "output_type": "execute_result"
                }
            ], 
            "source": "venues = results['response']['venues']\n\nCMS_Data = json_normalize(venues)\nCMS_Data.head"
        }, 
        {
            "execution_count": 33, 
            "cell_type": "code", 
            "metadata": {}, 
            "outputs": [
                {
                    "execution_count": 33, 
                    "metadata": {}, 
                    "data": {
                        "text/html": "<div>\n<style scoped>\n    .dataframe tbody tr th:only-of-type {\n        vertical-align: middle;\n    }\n\n    .dataframe tbody tr th {\n        vertical-align: top;\n    }\n\n    .dataframe thead th {\n        text-align: right;\n    }\n</style>\n<table border=\"1\" class=\"dataframe\">\n  <thead>\n    <tr style=\"text-align: right;\">\n      <th></th>\n      <th>name</th>\n      <th>categories</th>\n      <th>address</th>\n      <th>cc</th>\n      <th>city</th>\n      <th>country</th>\n      <th>crossStreet</th>\n      <th>distance</th>\n      <th>formattedAddress</th>\n      <th>labeledLatLngs</th>\n      <th>lat</th>\n      <th>lng</th>\n      <th>postalCode</th>\n      <th>state</th>\n      <th>id</th>\n    </tr>\n  </thead>\n  <tbody>\n    <tr>\n      <th>0</th>\n      <td>New Balance Track &amp; Field Center at The Armory</td>\n      <td>Track</td>\n      <td>216 Fort Washington Ave</td>\n      <td>US</td>\n      <td>New York</td>\n      <td>United States</td>\n      <td>near 168th &amp; Broadway</td>\n      <td>82</td>\n      <td>[216 Fort Washington Ave (near 168th &amp; Broadwa...</td>\n      <td>[{'label': 'display', 'lat': 40.84237921810222...</td>\n      <td>40.842379</td>\n      <td>-73.941875</td>\n      <td>10032</td>\n      <td>NY</td>\n      <td>4b5b0144f964a5205fde28e3</td>\n    </tr>\n    <tr>\n      <th>1</th>\n      <td>Bard Athletic Center</td>\n      <td>College Gym</td>\n      <td>60 Haven Ave</td>\n      <td>US</td>\n      <td>New York</td>\n      <td>United States</td>\n      <td>169th and Haven Ave</td>\n      <td>261</td>\n      <td>[60 Haven Ave (169th and Haven Ave), New York,...</td>\n      <td>[{'label': 'display', 'lat': 40.84339125113941...</td>\n      <td>40.843391</td>\n      <td>-73.943707</td>\n      <td>10032</td>\n      <td>NY</td>\n      <td>50e4986ae4b0167bf4bcb4a1</td>\n    </tr>\n    <tr>\n      <th>2</th>\n      <td>Finish Line Cafe  (@ New Balance Track and Fie...</td>\n      <td>Caf\u00e9</td>\n      <td>216 Fort Washington Ave</td>\n      <td>US</td>\n      <td>New York</td>\n      <td>United States</td>\n      <td>at West 168th St</td>\n      <td>73</td>\n      <td>[216 Fort Washington Ave (at West 168th St), N...</td>\n      <td>[{'label': 'display', 'lat': 40.842305, 'lng':...</td>\n      <td>40.842305</td>\n      <td>-73.941863</td>\n      <td>10032</td>\n      <td>NY</td>\n      <td>4bbca8c34e069c7443b19de3</td>\n    </tr>\n    <tr>\n      <th>3</th>\n      <td>Armory Track &amp; Field</td>\n      <td>Athletics &amp; Sports</td>\n      <td>NaN</td>\n      <td>US</td>\n      <td>New York</td>\n      <td>United States</td>\n      <td>NaN</td>\n      <td>50</td>\n      <td>[New York, NY 10032, United States]</td>\n      <td>[{'label': 'display', 'lat': 40.84212671215585...</td>\n      <td>40.842127</td>\n      <td>-73.941536</td>\n      <td>10032</td>\n      <td>NY</td>\n      <td>50d4e46ee4b0f4383822524b</td>\n    </tr>\n    <tr>\n      <th>4</th>\n      <td>Police Athletic League (P.A.L.)</td>\n      <td>Athletics &amp; Sports</td>\n      <td>216 Fort Washington Ave</td>\n      <td>US</td>\n      <td>New York</td>\n      <td>United States</td>\n      <td>169th St.</td>\n      <td>96</td>\n      <td>[216 Fort Washington Ave (169th St.), New York...</td>\n      <td>[{'label': 'display', 'lat': 40.84253728743216...</td>\n      <td>40.842537</td>\n      <td>-73.941479</td>\n      <td>10032</td>\n      <td>NY</td>\n      <td>4e15aaa5b61c42e7c54cf6c3</td>\n    </tr>\n  </tbody>\n</table>\n</div>", 
                        "text/plain": "                                                name          categories  \\\n0     New Balance Track & Field Center at The Armory               Track   \n1                               Bard Athletic Center         College Gym   \n2  Finish Line Cafe  (@ New Balance Track and Fie...                Caf\u00e9   \n3                               Armory Track & Field  Athletics & Sports   \n4                    Police Athletic League (P.A.L.)  Athletics & Sports   \n\n                   address  cc      city        country  \\\n0  216 Fort Washington Ave  US  New York  United States   \n1             60 Haven Ave  US  New York  United States   \n2  216 Fort Washington Ave  US  New York  United States   \n3                      NaN  US  New York  United States   \n4  216 Fort Washington Ave  US  New York  United States   \n\n             crossStreet  distance  \\\n0  near 168th & Broadway        82   \n1    169th and Haven Ave       261   \n2       at West 168th St        73   \n3                    NaN        50   \n4              169th St.        96   \n\n                                    formattedAddress  \\\n0  [216 Fort Washington Ave (near 168th & Broadwa...   \n1  [60 Haven Ave (169th and Haven Ave), New York,...   \n2  [216 Fort Washington Ave (at West 168th St), N...   \n3                [New York, NY 10032, United States]   \n4  [216 Fort Washington Ave (169th St.), New York...   \n\n                                      labeledLatLngs        lat        lng  \\\n0  [{'label': 'display', 'lat': 40.84237921810222...  40.842379 -73.941875   \n1  [{'label': 'display', 'lat': 40.84339125113941...  40.843391 -73.943707   \n2  [{'label': 'display', 'lat': 40.842305, 'lng':...  40.842305 -73.941863   \n3  [{'label': 'display', 'lat': 40.84212671215585...  40.842127 -73.941536   \n4  [{'label': 'display', 'lat': 40.84253728743216...  40.842537 -73.941479   \n\n  postalCode state                        id  \n0      10032    NY  4b5b0144f964a5205fde28e3  \n1      10032    NY  50e4986ae4b0167bf4bcb4a1  \n2      10032    NY  4bbca8c34e069c7443b19de3  \n3      10032    NY  50d4e46ee4b0f4383822524b  \n4      10032    NY  4e15aaa5b61c42e7c54cf6c3  "
                    }, 
                    "output_type": "execute_result"
                }
            ], 
            "source": "filtered_columns = ['name', 'categories'] + [col for col in CMS_Data.columns if col.startswith('location.')] + ['id']\nCMS_Data_filtered = CMS_Data.loc[:, filtered_columns]\n\ndef get_category_type(row):\n    try:\n        categories_list = row['categories']\n    except:\n        categories_list = row['venue.categories']\n        \n    if len(categories_list) == 0:\n        return None\n    else:\n        return categories_list[0]['name']\n\nCMS_Data_filtered['categories'] = CMS_Data_filtered.apply(get_category_type, axis=1)\n\nCMS_Data_filtered.columns = [column.split('.')[-1] for column in CMS_Data_filtered.columns]\n\nCMS_Data_filtered"
        }, 
        {
            "execution_count": 34, 
            "cell_type": "code", 
            "metadata": {}, 
            "outputs": [
                {
                    "execution_count": 34, 
                    "metadata": {}, 
                    "data": {
                        "text/html": "<div style=\"width:100%;\"><div style=\"position:relative;width:100%;height:0;padding-bottom:60%;\"><iframe src=\"data:text/html;charset=utf-8;base64,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\" style=\"position:absolute;width:100%;height:100%;left:0;top:0;border:none !important;\" allowfullscreen webkitallowfullscreen mozallowfullscreen></iframe></div></div>", 
                        "text/plain": "<folium.folium.Map at 0x7fe50280c710>"
                    }, 
                    "output_type": "execute_result"
                }
            ], 
            "source": "venues_map = folium.Map(location=[CMS_latitude, CMS_longitude], zoom_start=13)\n\nfolium.features.CircleMarker(\n    [CMS_latitude, CMS_longitude],\n    radius=10,\n    color='red',\n    popup='Columbia Medical School',\n    fill = True,\n    fill_color = 'red',\n    fill_opacity = 0.6\n).add_to(venues_map)\n\nfor lat, lng, label in zip(CMS_Data_filtered.lat, CMS_Data_filtered.lng,CMS_Data_filtered.categories):\n    folium.features.CircleMarker(\n        [lat, lng],\n        radius=5,\n        color='blue',\n        popup=label,\n        fill = True,\n        fill_color='blue',\n        fill_opacity=0.6\n    ).add_to(venues_map)\n\nvenues_map"
        }, 
        {
            "execution_count": 35, 
            "cell_type": "code", 
            "metadata": {}, 
            "outputs": [
                {
                    "execution_count": 35, 
                    "metadata": {}, 
                    "data": {
                        "text/plain": "0       New Balance Track & Field Center at The Armory\n1                                 Bard Athletic Center\n2    Finish Line Cafe  (@ New Balance Track and Fie...\n3                                 Armory Track & Field\n4                      Police Athletic League (P.A.L.)\nName: name, dtype: object"
                    }, 
                    "output_type": "execute_result"
                }
            ], 
            "source": "HMS_Data_filtered.name"
        }, 
        {
            "execution_count": 36, 
            "cell_type": "code", 
            "metadata": {}, 
            "outputs": [
                {
                    "execution_count": 36, 
                    "metadata": {}, 
                    "data": {
                        "text/plain": "0     82\n1    261\n2     73\n3     50\n4     96\nName: distance, dtype: int64"
                    }, 
                    "output_type": "execute_result"
                }
            ], 
            "source": "HMS_Data_filtered.distance"
        }, 
        {
            "execution_count": 58, 
            "cell_type": "code", 
            "metadata": {}, 
            "outputs": [
                {
                    "output_type": "stream", 
                    "name": "stdout", 
                    "text": "This venue has not been rated yet.\n"
                }
            ], 
            "source": "try:\n    print(result['response']['venue']['rating'])\nexcept:\n    print('This venue has not been rated yet.')"
        }, 
        {
            "execution_count": 79, 
            "cell_type": "code", 
            "metadata": {}, 
            "outputs": [
                {
                    "execution_count": 79, 
                    "metadata": {}, 
                    "data": {
                        "text/plain": "'https://api.foursquare.com/v2/venues/explore?&client_id=4XJERW0UXHYGTBU0UDD5VUXEVQCLVXXV4ZUDI51YICLHWTOC&client_secret=YAJY3B3BOGU3TG2H1M1DQA2HSD40M2DVKKMNCCEDBWYHB3CN&v=20180604&ll=40.8416764,-73.9415796&radius=200&limit=100'"
                    }, 
                    "output_type": "execute_result"
                }
            ], 
            "source": "\nLIMIT = 100\nradius = 200\nurl = 'https://api.foursquare.com/v2/venues/explore?&client_id={}&client_secret={}&v={}&ll={},{}&radius={}&limit={}'.format(\n    CLIENT_ID, \n    CLIENT_SECRET, \n    VERSION, \n    CMS_latitude, \n    CMS_longitude, \n    radius, \n    LIMIT)\nurl\n"
        }, 
        {
            "execution_count": 80, 
            "cell_type": "code", 
            "metadata": {}, 
            "outputs": [
                {
                    "execution_count": 80, 
                    "metadata": {}, 
                    "data": {
                        "text/plain": "{'meta': {'code': 200, 'requestId': '5d8fbb416001bc002b212bba'},\n 'response': {'suggestedFilters': {'header': 'Tap to show:',\n   'filters': [{'name': 'Open now', 'key': 'openNow'}]},\n  'headerLocation': 'Washington Heights',\n  'headerFullLocation': 'Washington Heights, New York',\n  'headerLocationGranularity': 'neighborhood',\n  'totalResults': 12,\n  'suggestedBounds': {'ne': {'lat': 40.8434764018, 'lng': -73.9392047228954},\n   'sw': {'lat': 40.8398763982, 'lng': -73.9439544771046}},\n  'groups': [{'type': 'Recommended Places',\n    'name': 'recommended',\n    'items': [{'reasons': {'count': 0,\n       'items': [{'summary': 'This spot is popular',\n         'type': 'general',\n         'reasonName': 'globalInteractionReason'}]},\n      'venue': {'id': '4ac93103f964a52013bf20e3',\n       'name': 'Highbridge Park',\n       'location': {'address': '173rd St & Amsterdam Ave',\n        'crossStreet': 'at Amsterdam Ave',\n        'lat': 40.84076848482368,\n        'lng': -73.94292688638392,\n        'labeledLatLngs': [{'label': 'display',\n          'lat': 40.84076848482368,\n          'lng': -73.94292688638392}],\n        'distance': 151,\n        'postalCode': '10032',\n        'cc': 'US',\n        'city': 'New York',\n        'state': 'NY',\n        'country': 'United States',\n        'formattedAddress': ['173rd St & Amsterdam Ave (at Amsterdam Ave)',\n         'New York, NY 10032',\n         'United States']},\n       'categories': [{'id': '4bf58dd8d48988d163941735',\n         'name': 'Park',\n         'pluralName': 'Parks',\n         'shortName': 'Park',\n         'icon': {'prefix': 'https://ss3.4sqi.net/img/categories_v2/parks_outdoors/park_',\n          'suffix': '.png'},\n         'primary': True}],\n       'photos': {'count': 0, 'groups': []}},\n      'referralId': 'e-0-4ac93103f964a52013bf20e3-0'},\n     {'reasons': {'count': 0,\n       'items': [{'summary': 'This spot is popular',\n         'type': 'general',\n         'reasonName': 'globalInteractionReason'}]},\n      'venue': {'id': '4b5b0144f964a5205fde28e3',\n       'name': 'New Balance Track & Field Center at The Armory',\n       'location': {'address': '216 Fort Washington Ave',\n        'crossStreet': 'near 168th & Broadway',\n        'lat': 40.84237921810222,\n        'lng': -73.94187469369459,\n        'labeledLatLngs': [{'label': 'display',\n          'lat': 40.84237921810222,\n          'lng': -73.94187469369459}],\n        'distance': 82,\n        'postalCode': '10032',\n        'cc': 'US',\n        'city': 'New York',\n        'state': 'NY',\n        'country': 'United States',\n        'formattedAddress': ['216 Fort Washington Ave (near 168th & Broadway)',\n         'New York, NY 10032',\n         'United States']},\n       'categories': [{'id': '4bf58dd8d48988d106941735',\n         'name': 'Track',\n         'pluralName': 'Tracks',\n         'shortName': 'Track',\n         'icon': {'prefix': 'https://ss3.4sqi.net/img/categories_v2/arts_entertainment/stadium_track_',\n          'suffix': '.png'},\n         'primary': True}],\n       'photos': {'count': 0, 'groups': []},\n       'venuePage': {'id': '433098152'}},\n      'referralId': 'e-0-4b5b0144f964a5205fde28e3-1'},\n     {'reasons': {'count': 0,\n       'items': [{'summary': 'This spot is popular',\n         'type': 'general',\n         'reasonName': 'globalInteractionReason'}]},\n      'venue': {'id': '4af0c188f964a520e2de21e3',\n       'name': 'Tasty Deli',\n       'location': {'address': '4020 Broadway',\n        'crossStreet': 'W 169th St',\n        'lat': 40.84181825314834,\n        'lng': -73.93929550503071,\n        'labeledLatLngs': [{'label': 'display',\n          'lat': 40.84181825314834,\n          'lng': -73.93929550503071}],\n        'distance': 193,\n        'postalCode': '10032',\n        'cc': 'US',\n        'city': 'New York',\n        'state': 'NY',\n        'country': 'United States',\n        'formattedAddress': ['4020 Broadway (W 169th St)',\n         'New York, NY 10032',\n         'United States']},\n       'categories': [{'id': '4bf58dd8d48988d1c5941735',\n         'name': 'Sandwich Place',\n         'pluralName': 'Sandwich Places',\n         'shortName': 'Sandwiches',\n         'icon': {'prefix': 'https://ss3.4sqi.net/img/categories_v2/food/deli_',\n          'suffix': '.png'},\n         'primary': True}],\n       'delivery': {'id': '258418',\n        'url': 'https://www.seamless.com/menu/tasty-deli-4020-broadway-ave-new-york/258418?affiliate=1131&utm_source=foursquare-affiliate-network&utm_medium=affiliate&utm_campaign=1131&utm_content=258418',\n        'provider': {'name': 'seamless',\n         'icon': {'prefix': 'https://fastly.4sqi.net/img/general/cap/',\n          'sizes': [40, 50],\n          'name': '/delivery_provider_seamless_20180129.png'}}},\n       'photos': {'count': 0, 'groups': []}},\n      'referralId': 'e-0-4af0c188f964a520e2de21e3-2'},\n     {'reasons': {'count': 0,\n       'items': [{'summary': 'This spot is popular',\n         'type': 'general',\n         'reasonName': 'globalInteractionReason'}]},\n      'venue': {'id': '4e416857d164f2d277c2922a',\n       'name': 'Fort Washington Greenmarket Farmers Market',\n       'location': {'address': 'Fort Washington Avenue',\n        'crossStreet': 'Btwn 168th & 169th Streets',\n        'lat': 40.84261268539106,\n        'lng': -73.94206523895264,\n        'labeledLatLngs': [{'label': 'display',\n          'lat': 40.84261268539106,\n          'lng': -73.94206523895264}],\n        'distance': 111,\n        'postalCode': '10032',\n        'cc': 'US',\n        'city': 'New York',\n        'state': 'NY',\n        'country': 'United States',\n        'formattedAddress': ['Fort Washington Avenue (Btwn 168th & 169th Streets)',\n         'New York, NY 10032',\n         'United States']},\n       'categories': [{'id': '4bf58dd8d48988d1fa941735',\n         'name': 'Farmers Market',\n         'pluralName': 'Farmers Markets',\n         'shortName': \"Farmer's Market\",\n         'icon': {'prefix': 'https://ss3.4sqi.net/img/categories_v2/shops/food_farmersmarket_',\n          'suffix': '.png'},\n         'primary': True}],\n       'photos': {'count': 0, 'groups': []}},\n      'referralId': 'e-0-4e416857d164f2d277c2922a-3'},\n     {'reasons': {'count': 0,\n       'items': [{'summary': 'This spot is popular',\n         'type': 'general',\n         'reasonName': 'globalInteractionReason'}]},\n      'venue': {'id': '4b54f0d8f964a52043d427e3',\n       'name': \"Mike's Bagels\",\n       'location': {'address': '4003 Broadway',\n        'crossStreet': 'at W 168th St',\n        'lat': 40.84130375074571,\n        'lng': -73.93969147132887,\n        'labeledLatLngs': [{'label': 'display',\n          'lat': 40.84130375074571,\n          'lng': -73.93969147132887}],\n        'distance': 164,\n        'postalCode': '10032',\n        'cc': 'US',\n        'city': 'New York',\n        'state': 'NY',\n        'country': 'United States',\n        'formattedAddress': ['4003 Broadway (at W 168th St)',\n         'New York, NY 10032',\n         'United States']},\n       'categories': [{'id': '4bf58dd8d48988d179941735',\n         'name': 'Bagel Shop',\n         'pluralName': 'Bagel Shops',\n         'shortName': 'Bagels',\n         'icon': {'prefix': 'https://ss3.4sqi.net/img/categories_v2/food/bagels_',\n          'suffix': '.png'},\n         'primary': True}],\n       'photos': {'count': 0, 'groups': []}},\n      'referralId': 'e-0-4b54f0d8f964a52043d427e3-4'},\n     {'reasons': {'count': 0,\n       'items': [{'summary': 'This spot is popular',\n         'type': 'general',\n         'reasonName': 'globalInteractionReason'}]},\n      'venue': {'id': '4d9374b97b5ea1434f57c9b8',\n       'name': \"Shana's Nail & Spa\",\n       'location': {'address': '607 W 168th St',\n        'crossStreet': 'at Broadway',\n        'lat': 40.841279658392814,\n        'lng': -73.93973716918981,\n        'labeledLatLngs': [{'label': 'display',\n          'lat': 40.841279658392814,\n          'lng': -73.93973716918981}],\n        'distance': 161,\n        'postalCode': '10032',\n        'cc': 'US',\n        'city': 'New York',\n        'state': 'NY',\n        'country': 'United States',\n        'formattedAddress': ['607 W 168th St (at Broadway)',\n         'New York, NY 10032',\n         'United States']},\n       'categories': [{'id': '4f04aa0c2fb6e1c99f3db0b8',\n         'name': 'Nail Salon',\n         'pluralName': 'Nail Salons',\n         'shortName': 'Nail Salon',\n         'icon': {'prefix': 'https://ss3.4sqi.net/img/categories_v2/shops/nailsalon_',\n          'suffix': '.png'},\n         'primary': True}],\n       'photos': {'count': 0, 'groups': []}},\n      'referralId': 'e-0-4d9374b97b5ea1434f57c9b8-5'},\n     {'reasons': {'count': 0,\n       'items': [{'summary': 'This spot is popular',\n         'type': 'general',\n         'reasonName': 'globalInteractionReason'}]},\n      'venue': {'id': '4bcfc9ceb221c9b6e3c9d2d0',\n       'name': 'Famous Famiglia',\n       'location': {'address': '4020 Broadway',\n        'crossStreet': 'at 169th Street',\n        'lat': 40.84133407282856,\n        'lng': -73.93957724452268,\n        'labeledLatLngs': [{'label': 'display',\n          'lat': 40.84133407282856,\n          'lng': -73.93957724452268}],\n        'distance': 172,\n        'postalCode': '10032',\n        'cc': 'US',\n        'city': 'New York',\n        'state': 'NY',\n        'country': 'United States',\n        'formattedAddress': ['4020 Broadway (at 169th Street)',\n         'New York, NY 10032',\n         'United States']},\n       'categories': [{'id': '4bf58dd8d48988d1ca941735',\n         'name': 'Pizza Place',\n         'pluralName': 'Pizza Places',\n         'shortName': 'Pizza',\n         'icon': {'prefix': 'https://ss3.4sqi.net/img/categories_v2/food/pizza_',\n          'suffix': '.png'},\n         'primary': True}],\n       'delivery': {'id': '77739',\n        'url': 'https://www.seamless.com/menu/new-famous-famiglia-pizzeria-4020-broadway-ave-new-york/77739?affiliate=1131&utm_source=foursquare-affiliate-network&utm_medium=affiliate&utm_campaign=1131&utm_content=77739',\n        'provider': {'name': 'seamless',\n         'icon': {'prefix': 'https://fastly.4sqi.net/img/general/cap/',\n          'sizes': [40, 50],\n          'name': '/delivery_provider_seamless_20180129.png'}}},\n       'photos': {'count': 0, 'groups': []},\n       'venuePage': {'id': '86445983'}},\n      'referralId': 'e-0-4bcfc9ceb221c9b6e3c9d2d0-6'},\n     {'reasons': {'count': 0,\n       'items': [{'summary': 'This spot is popular',\n         'type': 'general',\n         'reasonName': 'globalInteractionReason'}]},\n      'venue': {'id': '51b7552a498e828e1adbae94',\n       'name': 'Chipotle Mexican Grill',\n       'location': {'address': '4009 Broadway',\n        'crossStreet': 'W 168th St',\n        'lat': 40.84150081441521,\n        'lng': -73.93987634995904,\n        'labeledLatLngs': [{'label': 'display',\n          'lat': 40.84150081441521,\n          'lng': -73.93987634995904}],\n        'distance': 144,\n        'postalCode': '10032',\n        'cc': 'US',\n        'city': 'New York',\n        'state': 'NY',\n        'country': 'United States',\n        'formattedAddress': ['4009 Broadway (W 168th St)',\n         'New York, NY 10032',\n         'United States']},\n       'categories': [{'id': '4bf58dd8d48988d1c1941735',\n         'name': 'Mexican Restaurant',\n         'pluralName': 'Mexican Restaurants',\n         'shortName': 'Mexican',\n         'icon': {'prefix': 'https://ss3.4sqi.net/img/categories_v2/food/mexican_',\n          'suffix': '.png'},\n         'primary': True}],\n       'photos': {'count': 0, 'groups': []}},\n      'referralId': 'e-0-51b7552a498e828e1adbae94-7'},\n     {'reasons': {'count': 0,\n       'items': [{'summary': 'This spot is popular',\n         'type': 'general',\n         'reasonName': 'globalInteractionReason'}]},\n      'venue': {'id': '3fd66200f964a52080e81ee3',\n       'name': \"Coogan's\",\n       'location': {'address': '4015 Broadway',\n        'crossStreet': 'at W 169th St',\n        'lat': 40.8415204390618,\n        'lng': -73.93964920768128,\n        'labeledLatLngs': [{'label': 'display',\n          'lat': 40.8415204390618,\n          'lng': -73.93964920768128}],\n        'distance': 163,\n        'postalCode': '10032',\n        'cc': 'US',\n        'city': 'New York',\n        'state': 'NY',\n        'country': 'United States',\n        'formattedAddress': ['4015 Broadway (at W 169th St)',\n         'New York, NY 10032',\n         'United States']},\n       'categories': [{'id': '4bf58dd8d48988d116941735',\n         'name': 'Bar',\n         'pluralName': 'Bars',\n         'shortName': 'Bar',\n         'icon': {'prefix': 'https://ss3.4sqi.net/img/categories_v2/nightlife/pub_',\n          'suffix': '.png'},\n         'primary': True}],\n       'photos': {'count': 0, 'groups': []},\n       'venuePage': {'id': '49222245'}},\n      'referralId': 'e-0-3fd66200f964a52080e81ee3-8'},\n     {'reasons': {'count': 0,\n       'items': [{'summary': 'This spot is popular',\n         'type': 'general',\n         'reasonName': 'globalInteractionReason'}]},\n      'venue': {'id': '5270399211d218703bf55f83',\n       'name': 'Jade Garden Chinese Restaurant',\n       'location': {'address': '4028 Broadway',\n        'crossStreet': '169th St',\n        'lat': 40.84192289321093,\n        'lng': -73.93925666872532,\n        'labeledLatLngs': [{'label': 'display',\n          'lat': 40.84192289321093,\n          'lng': -73.93925666872532}],\n        'distance': 197,\n        'postalCode': '10032',\n        'cc': 'US',\n        'city': 'New York',\n        'state': 'NY',\n        'country': 'United States',\n        'formattedAddress': ['4028 Broadway (169th St)',\n         'New York, NY 10032',\n         'United States']},\n       'categories': [{'id': '4bf58dd8d48988d145941735',\n         'name': 'Chinese Restaurant',\n         'pluralName': 'Chinese Restaurants',\n         'shortName': 'Chinese',\n         'icon': {'prefix': 'https://ss3.4sqi.net/img/categories_v2/food/asian_',\n          'suffix': '.png'},\n         'primary': True}],\n       'delivery': {'id': '23695',\n        'url': 'https://www.seamless.com/menu/jade-garden-4028-broadway-ave-new-york/23695?affiliate=1131&utm_source=foursquare-affiliate-network&utm_medium=affiliate&utm_campaign=1131&utm_content=23695',\n        'provider': {'name': 'seamless',\n         'icon': {'prefix': 'https://fastly.4sqi.net/img/general/cap/',\n          'sizes': [40, 50],\n          'name': '/delivery_provider_seamless_20180129.png'}}},\n       'photos': {'count': 0, 'groups': []}},\n      'referralId': 'e-0-5270399211d218703bf55f83-9'},\n     {'reasons': {'count': 0,\n       'items': [{'summary': 'This spot is popular',\n         'type': 'general',\n         'reasonName': 'globalInteractionReason'}]},\n      'venue': {'id': '4b25a38bf964a520dc7424e3',\n       'name': 'Starbucks',\n       'location': {'address': '4001 Broadway',\n        'crossStreet': 'at W 168th St',\n        'lat': 40.84118767,\n        'lng': -73.9398428,\n        'labeledLatLngs': [{'label': 'display',\n          'lat': 40.84118767,\n          'lng': -73.9398428}],\n        'distance': 156,\n        'postalCode': '10032',\n        'cc': 'US',\n        'city': 'New York',\n        'state': 'NY',\n        'country': 'United States',\n        'formattedAddress': ['4001 Broadway (at W 168th St)',\n         'New York, NY 10032',\n         'United States']},\n       'categories': [{'id': '4bf58dd8d48988d1e0931735',\n         'name': 'Coffee Shop',\n         'pluralName': 'Coffee Shops',\n         'shortName': 'Coffee Shop',\n         'icon': {'prefix': 'https://ss3.4sqi.net/img/categories_v2/food/coffeeshop_',\n          'suffix': '.png'},\n         'primary': True}],\n       'photos': {'count': 0, 'groups': []}},\n      'referralId': 'e-0-4b25a38bf964a520dc7424e3-10'},\n     {'reasons': {'count': 0,\n       'items': [{'summary': 'This spot is popular',\n         'type': 'general',\n         'reasonName': 'globalInteractionReason'}]},\n      'venue': {'id': '563ee2e4cd10872628b2cf66',\n       'name': 'Subways',\n       'location': {'lat': 40.842867,\n        'lng': -73.941951,\n        'labeledLatLngs': [{'label': 'display',\n          'lat': 40.842867,\n          'lng': -73.941951}],\n        'distance': 136,\n        'cc': 'US',\n        'city': 'New York',\n        'state': 'NY',\n        'country': 'United States',\n        'formattedAddress': ['New York, NY', 'United States']},\n       'categories': [{'id': '4bf58dd8d48988d1c5941735',\n         'name': 'Sandwich Place',\n         'pluralName': 'Sandwich Places',\n         'shortName': 'Sandwiches',\n         'icon': {'prefix': 'https://ss3.4sqi.net/img/categories_v2/food/deli_',\n          'suffix': '.png'},\n         'primary': True}],\n       'delivery': {'id': '433112',\n        'url': 'https://www.seamless.com/menu/subway-651-w-169th-st-new-york/433112?affiliate=1131&utm_source=foursquare-affiliate-network&utm_medium=affiliate&utm_campaign=1131&utm_content=433112',\n        'provider': {'name': 'seamless',\n         'icon': {'prefix': 'https://fastly.4sqi.net/img/general/cap/',\n          'sizes': [40, 50],\n          'name': '/delivery_provider_seamless_20180129.png'}}},\n       'photos': {'count': 0, 'groups': []}},\n      'referralId': 'e-0-563ee2e4cd10872628b2cf66-11'}]}]}}"
                    }, 
                    "output_type": "execute_result"
                }
            ], 
            "source": "results = requests.get(url).json()\nresults"
        }, 
        {
            "execution_count": 81, 
            "cell_type": "code", 
            "metadata": {}, 
            "outputs": [], 
            "source": "# function that extracts the category of the venue\ndef get_category_type(row):\n    try:\n        categories_list = row['categories']\n    except:\n        categories_list = row['venue.categories']\n        \n    if len(categories_list) == 0:\n        return None\n    else:\n        return categories_list[0]['name']"
        }, 
        {
            "execution_count": 82, 
            "cell_type": "code", 
            "metadata": {}, 
            "outputs": [
                {
                    "execution_count": 82, 
                    "metadata": {}, 
                    "data": {
                        "text/plain": "<bound method NDFrame.head of                                               name          categories  \\\n0                                  Highbridge Park                Park   \n1   New Balance Track & Field Center at The Armory               Track   \n2                                       Tasty Deli      Sandwich Place   \n3       Fort Washington Greenmarket Farmers Market      Farmers Market   \n4                                    Mike's Bagels          Bagel Shop   \n5                               Shana's Nail & Spa          Nail Salon   \n6                                  Famous Famiglia         Pizza Place   \n7                           Chipotle Mexican Grill  Mexican Restaurant   \n8                                         Coogan's                 Bar   \n9                   Jade Garden Chinese Restaurant  Chinese Restaurant   \n10                                       Starbucks         Coffee Shop   \n11                                         Subways      Sandwich Place   \n\n          lat        lng  distance  \n0   40.840768 -73.942927       151  \n1   40.842379 -73.941875        82  \n2   40.841818 -73.939296       193  \n3   40.842613 -73.942065       111  \n4   40.841304 -73.939691       164  \n5   40.841280 -73.939737       161  \n6   40.841334 -73.939577       172  \n7   40.841501 -73.939876       144  \n8   40.841520 -73.939649       163  \n9   40.841923 -73.939257       197  \n10  40.841188 -73.939843       156  \n11  40.842867 -73.941951       136  >"
                    }, 
                    "output_type": "execute_result"
                }
            ], 
            "source": "venues = results['response']['groups'][0]['items']\n    \nnearby_venues = json_normalize(venues) # flatten JSON\n\n# filter columns\nfiltered_columns = ['venue.name', 'venue.categories', 'venue.location.lat', 'venue.location.lng', 'venue.location.distance']\nnearby_venues =nearby_venues.loc[:, filtered_columns]\n\n# filter the category for each row\nnearby_venues['venue.categories'] = nearby_venues.apply(get_category_type, axis=1)\n\n# clean columns\nnearby_venues.columns = [col.split(\".\")[-1] for col in nearby_venues.columns]\n\nnearby_venues.head"
        }, 
        {
            "execution_count": 64, 
            "cell_type": "code", 
            "metadata": {}, 
            "outputs": [
                {
                    "output_type": "stream", 
                    "name": "stdout", 
                    "text": "39 venues were returned by Foursquare.\n"
                }
            ], 
            "source": "print('{} venues were returned by Foursquare.'.format(nearby_venues.shape[0]))"
        }, 
        {
            "execution_count": 85, 
            "cell_type": "code", 
            "metadata": {}, 
            "outputs": [], 
            "source": "import json"
        }, 
        {
            "execution_count": 86, 
            "cell_type": "code", 
            "metadata": {}, 
            "outputs": [
                {
                    "output_type": "stream", 
                    "name": "stdout", 
                    "text": "Data downloaded!\n"
                }
            ], 
            "source": "!wget -q -O 'newyork_data.json' https://cocl.us/new_york_dataset\nprint('Data downloaded!')"
        }, 
        {
            "execution_count": 87, 
            "cell_type": "code", 
            "metadata": {}, 
            "outputs": [], 
            "source": "with open('newyork_data.json') as json_data:\n    newyork_data = json.load(json_data)"
        }, 
        {
            "execution_count": 89, 
            "cell_type": "code", 
            "metadata": {}, 
            "outputs": [
                {
                    "execution_count": 89, 
                    "metadata": {}, 
                    "data": {
                        "text/plain": "{'type': 'Feature',\n 'id': 'nyu_2451_34572.1',\n 'geometry': {'type': 'Point',\n  'coordinates': [-73.84720052054902, 40.89470517661]},\n 'geometry_name': 'geom',\n 'properties': {'name': 'Wakefield',\n  'stacked': 1,\n  'annoline1': 'Wakefield',\n  'annoline2': None,\n  'annoline3': None,\n  'annoangle': 0.0,\n  'borough': 'Bronx',\n  'bbox': [-73.84720052054902,\n   40.89470517661,\n   -73.84720052054902,\n   40.89470517661]}}"
                    }, 
                    "output_type": "execute_result"
                }
            ], 
            "source": "neighborhoods_data = newyork_data['features']\nneighborhoods_data[0]"
        }, 
        {
            "execution_count": 91, 
            "cell_type": "code", 
            "metadata": {}, 
            "outputs": [
                {
                    "execution_count": 91, 
                    "metadata": {}, 
                    "data": {
                        "text/html": "<div>\n<style scoped>\n    .dataframe tbody tr th:only-of-type {\n        vertical-align: middle;\n    }\n\n    .dataframe tbody tr th {\n        vertical-align: top;\n    }\n\n    .dataframe thead th {\n        text-align: right;\n    }\n</style>\n<table border=\"1\" class=\"dataframe\">\n  <thead>\n    <tr style=\"text-align: right;\">\n      <th></th>\n      <th>Borough</th>\n      <th>Neighborhood</th>\n      <th>Latitude</th>\n      <th>Longitude</th>\n    </tr>\n  </thead>\n  <tbody>\n  </tbody>\n</table>\n</div>", 
                        "text/plain": "Empty DataFrame\nColumns: [Borough, Neighborhood, Latitude, Longitude]\nIndex: []"
                    }, 
                    "output_type": "execute_result"
                }
            ], 
            "source": "# define the dataframe columns\ncolumn_names = ['Borough', 'Neighborhood', 'Latitude', 'Longitude'] \n\n# instantiate the dataframe\nneighborhoods = pd.DataFrame(columns=column_names)\nneighborhoods"
        }, 
        {
            "execution_count": 93, 
            "cell_type": "code", 
            "metadata": {}, 
            "outputs": [
                {
                    "execution_count": 93, 
                    "metadata": {}, 
                    "data": {
                        "text/plain": "<bound method NDFrame.head of            Borough         Neighborhood   Latitude  Longitude\n0            Bronx            Wakefield  40.894705 -73.847201\n1            Bronx           Co-op City  40.874294 -73.829939\n2            Bronx          Eastchester  40.887556 -73.827806\n3            Bronx            Fieldston  40.895437 -73.905643\n4            Bronx            Riverdale  40.890834 -73.912585\n5            Bronx          Kingsbridge  40.881687 -73.902818\n6        Manhattan          Marble Hill  40.876551 -73.910660\n7            Bronx             Woodlawn  40.898273 -73.867315\n8            Bronx              Norwood  40.877224 -73.879391\n9            Bronx       Williamsbridge  40.881039 -73.857446\n10           Bronx           Baychester  40.866858 -73.835798\n11           Bronx       Pelham Parkway  40.857413 -73.854756\n12           Bronx          City Island  40.847247 -73.786488\n13           Bronx         Bedford Park  40.870185 -73.885512\n14           Bronx   University Heights  40.855727 -73.910416\n15           Bronx       Morris Heights  40.847898 -73.919672\n16           Bronx              Fordham  40.860997 -73.896427\n17           Bronx         East Tremont  40.842696 -73.887356\n18           Bronx           West Farms  40.839475 -73.877745\n19           Bronx         High  Bridge  40.836623 -73.926102\n20           Bronx              Melrose  40.819754 -73.909422\n21           Bronx           Mott Haven  40.806239 -73.916100\n22           Bronx          Port Morris  40.801664 -73.913221\n23           Bronx             Longwood  40.815099 -73.895788\n24           Bronx          Hunts Point  40.809730 -73.883315\n25           Bronx           Morrisania  40.823592 -73.901506\n26           Bronx            Soundview  40.821012 -73.865746\n27           Bronx         Clason Point  40.806551 -73.854144\n28           Bronx          Throgs Neck  40.815109 -73.816350\n29           Bronx         Country Club  40.844246 -73.824099\n..             ...                  ...        ...        ...\n582      Manhattan             Flatiron  40.739673 -73.990947\n583         Queens    Sunnyside Gardens  40.745652 -73.918193\n584         Queens           Blissville  40.737251 -73.932442\n585       Brooklyn         Fulton Ferry  40.703281 -73.995508\n586       Brooklyn         Vinegar Hill  40.703321 -73.981116\n587       Brooklyn           Weeksville  40.675040 -73.930531\n588       Brooklyn    Broadway Junction  40.677861 -73.903317\n589       Brooklyn                Dumbo  40.703176 -73.988753\n590  Staten Island        Manor Heights  40.601810 -74.120594\n591  Staten Island          Willowbrook  40.603707 -74.132084\n592  Staten Island         Sandy Ground  40.541140 -74.217766\n593  Staten Island          Egbertville  40.579119 -74.127272\n594         Queens              Roxbury  40.567376 -73.892138\n595       Brooklyn            Homecrest  40.598525 -73.959185\n596         Queens       Middle Village  40.716415 -73.881143\n597  Staten Island         Prince's Bay  40.526264 -74.201526\n598  Staten Island      Lighthouse Hill  40.576506 -74.137927\n599  Staten Island      Richmond Valley  40.519541 -74.229571\n600         Queens                Malba  40.790602 -73.826678\n601       Brooklyn        Highland Park  40.681999 -73.890346\n602       Brooklyn              Madison  40.609378 -73.948415\n603          Bronx            Bronxdale  40.852723 -73.861726\n604          Bronx             Allerton  40.865788 -73.859319\n605          Bronx  Kingsbridge Heights  40.870392 -73.901523\n606       Brooklyn              Erasmus  40.646926 -73.948177\n607      Manhattan         Hudson Yards  40.756658 -74.000111\n608         Queens              Hammels  40.587338 -73.805530\n609         Queens            Bayswater  40.611322 -73.765968\n610         Queens         Queensbridge  40.756091 -73.945631\n611  Staten Island            Fox Hills  40.617311 -74.081740\n\n[612 rows x 4 columns]>"
                    }, 
                    "output_type": "execute_result"
                }
            ], 
            "source": "for data in neighborhoods_data:\n    borough = neighborhood_name = data['properties']['borough'] \n    neighborhood_name = data['properties']['name']\n        \n    neighborhood_latlon = data['geometry']['coordinates']\n    neighborhood_lat = neighborhood_latlon[1]\n    neighborhood_lon = neighborhood_latlon[0]\n    \n    neighborhoods = neighborhoods.append({'Borough': borough,\n                                          'Neighborhood': neighborhood_name,\n                                          'Latitude': neighborhood_lat,\n                                          'Longitude': neighborhood_lon}, ignore_index=True)\nneighborhoods.head"
        }, 
        {
            "execution_count": 96, 
            "cell_type": "code", 
            "metadata": {}, 
            "outputs": [
                {
                    "execution_count": 96, 
                    "metadata": {}, 
                    "data": {
                        "text/plain": "<bound method NDFrame.head of       Borough         Neighborhood   Latitude  Longitude\n0   Manhattan          Marble Hill  40.876551 -73.910660\n1   Manhattan            Chinatown  40.715618 -73.994279\n2   Manhattan   Washington Heights  40.851903 -73.936900\n3   Manhattan               Inwood  40.867684 -73.921210\n4   Manhattan     Hamilton Heights  40.823604 -73.949688\n5   Manhattan       Manhattanville  40.816934 -73.957385\n6   Manhattan       Central Harlem  40.815976 -73.943211\n7   Manhattan          East Harlem  40.792249 -73.944182\n8   Manhattan      Upper East Side  40.775639 -73.960508\n9   Manhattan            Yorkville  40.775930 -73.947118\n10  Manhattan           Lenox Hill  40.768113 -73.958860\n11  Manhattan     Roosevelt Island  40.762160 -73.949168\n12  Manhattan      Upper West Side  40.787658 -73.977059\n13  Manhattan       Lincoln Square  40.773529 -73.985338\n14  Manhattan              Clinton  40.759101 -73.996119\n15  Manhattan              Midtown  40.754691 -73.981669\n16  Manhattan          Murray Hill  40.748303 -73.978332\n17  Manhattan              Chelsea  40.744035 -74.003116\n18  Manhattan    Greenwich Village  40.726933 -73.999914\n19  Manhattan         East Village  40.727847 -73.982226\n20  Manhattan      Lower East Side  40.717807 -73.980890\n21  Manhattan              Tribeca  40.721522 -74.010683\n22  Manhattan         Little Italy  40.719324 -73.997305\n23  Manhattan                 Soho  40.722184 -74.000657\n24  Manhattan         West Village  40.734434 -74.006180\n25  Manhattan     Manhattan Valley  40.797307 -73.964286\n26  Manhattan  Morningside Heights  40.808000 -73.963896\n27  Manhattan             Gramercy  40.737210 -73.981376\n28  Manhattan    Battery Park City  40.711932 -74.016869\n29  Manhattan   Financial District  40.707107 -74.010665\n..        ...                  ...        ...        ...\n50  Manhattan           Lenox Hill  40.768113 -73.958860\n51  Manhattan     Roosevelt Island  40.762160 -73.949168\n52  Manhattan      Upper West Side  40.787658 -73.977059\n53  Manhattan       Lincoln Square  40.773529 -73.985338\n54  Manhattan              Clinton  40.759101 -73.996119\n55  Manhattan              Midtown  40.754691 -73.981669\n56  Manhattan          Murray Hill  40.748303 -73.978332\n57  Manhattan              Chelsea  40.744035 -74.003116\n58  Manhattan    Greenwich Village  40.726933 -73.999914\n59  Manhattan         East Village  40.727847 -73.982226\n60  Manhattan      Lower East Side  40.717807 -73.980890\n61  Manhattan              Tribeca  40.721522 -74.010683\n62  Manhattan         Little Italy  40.719324 -73.997305\n63  Manhattan                 Soho  40.722184 -74.000657\n64  Manhattan         West Village  40.734434 -74.006180\n65  Manhattan     Manhattan Valley  40.797307 -73.964286\n66  Manhattan  Morningside Heights  40.808000 -73.963896\n67  Manhattan             Gramercy  40.737210 -73.981376\n68  Manhattan    Battery Park City  40.711932 -74.016869\n69  Manhattan   Financial District  40.707107 -74.010665\n70  Manhattan        Carnegie Hill  40.782683 -73.953256\n71  Manhattan                 Noho  40.723259 -73.988434\n72  Manhattan         Civic Center  40.715229 -74.005415\n73  Manhattan        Midtown South  40.748510 -73.988713\n74  Manhattan         Sutton Place  40.760280 -73.963556\n75  Manhattan           Turtle Bay  40.752042 -73.967708\n76  Manhattan           Tudor City  40.746917 -73.971219\n77  Manhattan      Stuyvesant Town  40.731000 -73.974052\n78  Manhattan             Flatiron  40.739673 -73.990947\n79  Manhattan         Hudson Yards  40.756658 -74.000111\n\n[80 rows x 4 columns]>"
                    }, 
                    "output_type": "execute_result"
                }
            ], 
            "source": "manhattan_data = neighborhoods[neighborhoods['Borough'] == 'Manhattan'].reset_index(drop=True)\nmanhattan_data.head"
        }, 
        {
            "execution_count": 98, 
            "cell_type": "code", 
            "metadata": {}, 
            "outputs": [
                {
                    "output_type": "stream", 
                    "name": "stdout", 
                    "text": "Columbia Medical School: 40.8416764 -73.9415796\n"
                }
            ], 
            "source": "HMS_address = '630 W 168th St, New York, NY 10032'\n\n\ngeolocator = Nominatim(user_agent=\"foursquare_agent\")\nlocation = geolocator.geocode(HMS_address)\nCMS_latitude = location.latitude\nCMS_longitude = location.longitude\nprint(\"Columbia Medical School:\", CMS_latitude, CMS_longitude)"
        }, 
        {
            "execution_count": null, 
            "cell_type": "code", 
            "metadata": {}, 
            "outputs": [], 
            "source": ""
        }
    ], 
    "metadata": {
        "kernelspec": {
            "display_name": "Python 3.6", 
            "name": "python3", 
            "language": "python"
        }, 
        "language_info": {
            "mimetype": "text/x-python", 
            "nbconvert_exporter": "python", 
            "version": "3.6.8", 
            "name": "python", 
            "file_extension": ".py", 
            "pygments_lexer": "ipython3", 
            "codemirror_mode": {
                "version": 3, 
                "name": "ipython"
            }
        }
    }, 
    "nbformat": 4
}