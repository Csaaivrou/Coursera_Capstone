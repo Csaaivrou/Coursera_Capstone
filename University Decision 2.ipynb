{
    "nbformat_minor": 1, 
    "cells": [
        {
            "source": "# Which American University will it be?\nPart 2: Data", 
            "cell_type": "markdown", 
            "metadata": {
                "collapsed": true
            }
        }, 
        {
            "source": "I will be using the following data to resolve my problem:\n1. Searh for specific venue types e.g. athletic track, swimming pool, ice rink\n2. Explore venues e.g. distance, rating", 
            "cell_type": "markdown", 
            "metadata": {}
        }
    ], 
    "metadata": {
        "kernelspec": {
            "display_name": "Python 3.6", 
            "name": "python3", 
            "language": "python"
        }, 
        "language_info": {
            "mimetype": "text/x-python", 
            "nbconvert_exporter": "python", 
            "version": "3.6.8", 
            "name": "python", 
            "file_extension": ".py", 
            "pygments_lexer": "ipython3", 
            "codemirror_mode": {
                "version": 3, 
                "name": "ipython"
            }
        }
    }, 
    "nbformat": 4
}