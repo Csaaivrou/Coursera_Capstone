{
    "nbformat_minor": 1, 
    "cells": [
        {
            "source": "# Which American University will it be?\nPersonal assignment for Siman Family", 
            "cell_type": "markdown", 
            "metadata": {}
        }, 
        {
            "source": "## Introduction ", 
            "cell_type": "markdown", 
            "metadata": {}
        }, 
        {
            "source": "I am Carina Siman from South Arica. My child received bursaries from both Harvard University, Cambridge, Massachusetts and Columbia University, Upper Manhattan, New York. My child is also an aspiring athlete. She qualified for and is taking part in the heptathlon event in the Olympics 2020 as well as in the ice hockey event in the Winter Olympics 2020.", 
            "cell_type": "markdown", 
            "metadata": {}
        }, 
        {
            "source": "## Business Problem", 
            "cell_type": "markdown", 
            "metadata": {}
        }, 
        {
            "source": "We need to determine which bursary to accept and the deciding factors include the facilities that an athlete or ice hockey player can utilize. As a heptathlon athlete you have to be close to athletic tracks, gyms and swimming pools and for the hockey event you need to be close to ice rinks to practice. These facilities must be available after hours and must be close to the place where she is going to stay.", 
            "cell_type": "markdown", 
            "metadata": {}
        }
    ], 
    "nbformat": 4, 
    "metadata": {
        "kernelspec": {
            "display_name": "Python 3.6", 
            "name": "python3", 
            "language": "python"
        }, 
        "language_info": {
            "mimetype": "text/x-python", 
            "nbconvert_exporter": "python", 
            "version": "3.6.8", 
            "name": "python", 
            "pygments_lexer": "ipython3", 
            "file_extension": ".py", 
            "codemirror_mode": {
                "version": 3, 
                "name": "ipython"
            }
        }
    }
}